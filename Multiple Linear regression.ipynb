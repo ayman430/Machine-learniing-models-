{
 "cells": [
  {
   "cell_type": "markdown",
   "id": "d5910534",
   "metadata": {},
   "source": [
    "## Notebook content\n",
    "\n",
    "### Multipe variable linear regression model\n",
    "\n",
    "        \n",
    "### Features scaling\n"
   ]
  },
  {
   "cell_type": "code",
   "execution_count": 116,
   "id": "c4c77583",
   "metadata": {},
   "outputs": [],
   "source": [
    "import numpy as np\n",
    "import matplotlib.pyplot as plt\n",
    "import copy, math\n",
    "import pandas as pd\n",
    "from tabulate import tabulate"
   ]
  },
  {
   "cell_type": "code",
   "execution_count": 26,
   "id": "4a6739a6",
   "metadata": {},
   "outputs": [
    {
     "data": {
      "text/html": [
       "<div>\n",
       "<style scoped>\n",
       "    .dataframe tbody tr th:only-of-type {\n",
       "        vertical-align: middle;\n",
       "    }\n",
       "\n",
       "    .dataframe tbody tr th {\n",
       "        vertical-align: top;\n",
       "    }\n",
       "\n",
       "    .dataframe thead th {\n",
       "        text-align: right;\n",
       "    }\n",
       "</style>\n",
       "<table border=\"1\" class=\"dataframe\">\n",
       "  <thead>\n",
       "    <tr style=\"text-align: right;\">\n",
       "      <th></th>\n",
       "      <th>size(sqft)</th>\n",
       "      <th>bedrooms</th>\n",
       "      <th>floors</th>\n",
       "      <th>age</th>\n",
       "      <th>price(1000$)</th>\n",
       "    </tr>\n",
       "  </thead>\n",
       "  <tbody>\n",
       "    <tr>\n",
       "      <th>0</th>\n",
       "      <td>1240.0</td>\n",
       "      <td>3.0</td>\n",
       "      <td>1.0</td>\n",
       "      <td>64.0</td>\n",
       "      <td>300.0</td>\n",
       "    </tr>\n",
       "    <tr>\n",
       "      <th>1</th>\n",
       "      <td>1950.0</td>\n",
       "      <td>3.0</td>\n",
       "      <td>2.0</td>\n",
       "      <td>17.0</td>\n",
       "      <td>510.0</td>\n",
       "    </tr>\n",
       "    <tr>\n",
       "      <th>2</th>\n",
       "      <td>1730.0</td>\n",
       "      <td>3.0</td>\n",
       "      <td>2.0</td>\n",
       "      <td>42.0</td>\n",
       "      <td>394.0</td>\n",
       "    </tr>\n",
       "  </tbody>\n",
       "</table>\n",
       "</div>"
      ],
      "text/plain": [
       "   size(sqft)  bedrooms  floors   age  price(1000$)\n",
       "0      1240.0       3.0     1.0  64.0         300.0\n",
       "1      1950.0       3.0     2.0  17.0         510.0\n",
       "2      1730.0       3.0     2.0  42.0         394.0"
      ]
     },
     "execution_count": 26,
     "metadata": {},
     "output_type": "execute_result"
    }
   ],
   "source": [
    "houses_data = pd.read_csv(\"house.csv\")\n",
    "houses_data.head(3)"
   ]
  },
  {
   "cell_type": "markdown",
   "id": "99df971c",
   "metadata": {},
   "source": [
    "have 4 features ( house size , number of bedrooms, number of floors, house age) <br>\n",
    "so f_wb(prediction value) = w1x1+ w2x2 + w3x3 + w4x4 + b"
   ]
  },
  {
   "cell_type": "code",
   "execution_count": 27,
   "id": "5316cea5",
   "metadata": {},
   "outputs": [],
   "source": [
    "x_train = np.array (houses_data.loc[:, 'size(sqft)':'age'])\n",
    "y_train = np.array(houses_data['price(1000$)'])\n",
    "x_features = ['size(sqft)','bedrooms','floors','age']"
   ]
  },
  {
   "cell_type": "code",
   "execution_count": null,
   "id": "af4c2d74",
   "metadata": {},
   "outputs": [],
   "source": [
    "x_train"
   ]
  },
  {
   "cell_type": "code",
   "execution_count": 28,
   "id": "2819ee1e",
   "metadata": {},
   "outputs": [
    {
     "data": {
      "text/plain": [
       "Text(0, 0.5, 'price(1000$')"
      ]
     },
     "execution_count": 28,
     "metadata": {},
     "output_type": "execute_result"
    },
    {
     "data": {
      "image/png": "[encoded data removed]",
      "text/plain": [
       "<Figure size 1152x288 with 4 Axes>"
      ]
     },
     "metadata": {
      "needs_background": "light"
     },
     "output_type": "display_data"
    }
   ],
   "source": [
    "fig, ax = plt.subplots(1, 4, figsize=(16,4))\n",
    "for i in range(len(ax)):\n",
    "    ax[i].scatter(x_train[:,i], y_train)\n",
    "    ax[i].set_xlabel(x_features[i])\n",
    "ax[0].set_ylabel(\"price(1000$\")"
   ]
  },
  {
   "cell_type": "code",
   "execution_count": 29,
   "id": "868f9075",
   "metadata": {},
   "outputs": [
    {
     "data": {
      "text/plain": [
       "(99, 4, (99,))"
      ]
     },
     "execution_count": 29,
     "metadata": {},
     "output_type": "execute_result"
    }
   ],
   "source": [
    "m,n = x_train.shape\n",
    "m, n, y_train.shape"
   ]
  },
  {
   "cell_type": "code",
   "execution_count": 30,
   "id": "e0458937",
   "metadata": {},
   "outputs": [],
   "source": [
    "b_init = 785.1811367994083\n",
    "w_init = np.array([ 0.39133535, 18.75376741, -53.36032453, -26.42131618])"
   ]
  },
  {
   "cell_type": "markdown",
   "id": "339ff96c",
   "metadata": {},
   "source": [
    "# Cost function\n",
    "\n",
    "j(w,b) = (1/2m) * sum( f_wb - y )**2"
   ]
  },
  {
   "cell_type": "code",
   "execution_count": 31,
   "id": "2ed75d57",
   "metadata": {},
   "outputs": [],
   "source": [
    "# f_wb = row vector w * row vector x + b\n",
    "\n",
    "def cost_function(x, y, w, b):\n",
    "    errs = 0             \n",
    "    for i in range(m):\n",
    "        f_wb = np.dot(x[i],w) + b\n",
    "        err = (f_wb - y[i])**2\n",
    "        errs += err \n",
    "    \n",
    "    return errs / (2 * m)\n"
   ]
  },
  {
   "cell_type": "code",
   "execution_count": 117,
   "id": "36582e36",
   "metadata": {},
   "outputs": [
    {
     "name": "stdout",
     "output_type": "stream",
     "text": [
      "befor optimization => 222304.68 \n",
      "aftet optimization =>  1429.15 \n",
      "after features scaling => 216.03\n"
     ]
    }
   ],
   "source": [
    "cost = cost_function(x_train, y_train, w_init, b_init)\n",
    "cost2 = cost_function(x_train, y_train, final_w, final_b)\n",
    "cost3 = cost_function(x_norm, y_train, norm_w, norm_b)\n",
    "\n",
    "print(f\"befor optimization => {cost:.2f} \\naftet optimization =>  {cost2:.2f} \\nafter features scaling => {cost3:.2f}\")"
   ]
  },
  {
   "cell_type": "markdown",
   "id": "31b4be99",
   "metadata": {},
   "source": [
    "# Compute gradient \n",
    "\n",
    "#### dj_dw = 1/m sum (f_wb[i] - y[i]) * x[i,j]\n",
    "\n",
    "#### dj_db = 1/m sum (f_wb[i] - y[i])"
   ]
  },
  {
   "cell_type": "code",
   "execution_count": 32,
   "id": "be2b054d",
   "metadata": {},
   "outputs": [],
   "source": [
    "def compute_gradient(x, y, w, b):\n",
    "    dj_dw = np.zeros(n)\n",
    "    dj_db = 0\n",
    "    for i in range(m):\n",
    "        err = (np.dot(x[i],w) + b) - y[i]\n",
    "        \n",
    "        for j in range(n):\n",
    "            dj_dw[j] += err * x[i,j]\n",
    "        \n",
    "        dj_db += err\n",
    "        \n",
    "    dj_dw = dj_dw / m\n",
    "    dj_db = dj_db / m\n",
    "    \n",
    "    return dj_db , dj_dw"
   ]
  },
  {
   "cell_type": "code",
   "execution_count": 33,
   "id": "af7f5358",
   "metadata": {},
   "outputs": [
    {
     "data": {
      "text/plain": [
       "(-59.8995498215009,\n",
       " array([ 1.45548780e+04, -1.01487828e+02,  1.57327825e+00, -1.92945421e+04]))"
      ]
     },
     "execution_count": 33,
     "metadata": {},
     "output_type": "execute_result"
    }
   ],
   "source": [
    "avg_dj_db , avg_dj_dw = compute_gradient(x_train, y_train, w_init, b_init) \n",
    "avg_dj_db, avg_dj_dw"
   ]
  },
  {
   "cell_type": "markdown",
   "id": "0a154472",
   "metadata": {},
   "source": [
    "# Gradient Descent With Multiple Variables¶\n",
    "\n",
    "#### w = w - alpha * dj_dw \n",
    "#### b = b -  alpha * dj _db\n",
    "\n"
   ]
  },
  {
   "cell_type": "code",
   "execution_count": 87,
   "id": "7d35e35c",
   "metadata": {},
   "outputs": [],
   "source": [
    "def gradient_descent(x, y, alpha, iteration_num, initil_w, initil_b, compute_gradient):\n",
    "    \n",
    "    w = copy.deepcopy(initil_w) \n",
    "    b = initil_b \n",
    "    j_history= []\n",
    "    data = []\n",
    "\n",
    "    for i in range(iteration_num):\n",
    "        dj_db, dj_dw = compute_gradient(x, y, w, b)\n",
    "        \n",
    "        w = w - alpha * dj_dw\n",
    "        b = b - alpha * dj_db\n",
    "         # View test points\n",
    "        j_history.append(cost_function(x, y, w, b))\n",
    "\n",
    "        if i % 100 == 0:\n",
    "             ## Initialize the data\n",
    "            row = [i, j_history[i], dj_dw[0], dj_dw[1], dj_dw[2], dj_dw[3], w[0], w[1], w[2], w[3], b]\n",
    "            data.append(row)\n",
    "\n",
    "    # Define the table headers\n",
    "    headers = [\"I\", \"Cost\", \"dj_dw_0\", \"dj_dw_1\", \"dj_dw_2\", \"dj_dw_3\", \"w0\",\"w1\",\"w2\",\"w3\", \"b\"]\n",
    "\n",
    "    # Print the table\n",
    "    print(tabulate(data, headers=headers,colalign='right'))\n",
    "    return w , b"
   ]
  },
  {
   "cell_type": "code",
   "execution_count": 88,
   "id": "0eec7031",
   "metadata": {},
   "outputs": [
    {
     "name": "stdout",
     "output_type": "stream",
     "text": [
      "  I     Cost    dj_dw_0    dj_dw_1    dj_dw_2     dj_dw_3        w0            w1            w2           w3            b\n",
      "---  -------  ---------  ---------  ---------  ----------  --------  ------------  ------------  -----------  -----------\n",
      "0    2158.92  -551813    -1005.97   -518.495   -12402.7    0.275906   0.000502985   0.000259247   0.00620137  0.000181576\n",
      "100  1555.17  -15.2065   6.38686    8.29828       641.104  0.253593   0.000134278  -0.000178803  -0.0271372   0.000386238\n",
      "200  1535.53  -14.5273   6.11504    8.25588       612.464  0.254336  -0.00017815   -0.000592638  -0.0584638   0.000613573\n",
      "300  1517.6   -13.8785   5.85535    8.21537       585.104  0.255046  -0.000477296  -0.0010044    -0.088391    0.000848222\n",
      "400  1501.24  -13.2586   5.60727    8.17667       558.966  0.255724  -0.000763752  -0.00141419   -0.116981    0.00108986\n",
      "500  1486.3   -12.6664   5.37027    8.1397        533.996  0.256372  -0.00103809   -0.00182208   -0.144294    0.00133817\n",
      "600  1472.67  -12.1007   5.14386    8.10438       510.141  0.256991  -0.00130084   -0.00222817   -0.170387    0.00159286\n",
      "700  1460.23  -11.5602   4.92757    8.07063       487.352  0.257582  -0.00155253   -0.00263253   -0.195315    0.00185364\n",
      "800  1448.88  -11.0439   4.72093    8.03839       465.581  0.258147  -0.00179365   -0.00303524   -0.219128    0.00212024\n",
      "900  1438.52  -10.5507   4.52353    8.00759       444.783  0.258687  -0.00202468   -0.00343637   -0.241878    0.0023924\n"
     ]
    }
   ],
   "source": [
    "initial_w = np.zeros_like(w_init)\n",
    "initial_b = 0.\n",
    "iterations = 1000\n",
    "alpha = 5.0e-7\n",
    "\n",
    "final_w , final_b = gradient_descent(x_train, y_train, alpha,iterations, initial_w, initial_b, compute_gradient)"
   ]
  },
  {
   "cell_type": "markdown",
   "id": "79c819d6",
   "metadata": {},
   "source": [
    "## note \n",
    "##### w0 updated more faster than all w1-3 as it mul by size which it is a large value which shown importance of features scaling\n",
    "dj_dw = 1/m sum (f_wb[i] - y[i]) * x[i,j]\n",
    " - not write dj_db as shape will not be nice \n",
    " "
   ]
  },
  {
   "cell_type": "code",
   "execution_count": 39,
   "id": "565d4d9c",
   "metadata": {},
   "outputs": [
    {
     "data": {
      "text/plain": [
       "(array([ 0.25919731, -0.00224389, -0.00383201, -0.26339942]),\n",
       " 0.002667074866498598)"
      ]
     },
     "execution_count": 39,
     "metadata": {},
     "output_type": "execute_result"
    }
   ],
   "source": [
    "final_w , final_b"
   ]
  },
  {
   "cell_type": "code",
   "execution_count": null,
   "id": "c94c31b9",
   "metadata": {},
   "outputs": [],
   "source": [
    "f_wb = np.zeros(m)\n",
    "for i in range(m):\n",
    "    f_wb[i] = np.dot(x_train[i], final_w) + final_b\n",
    "    print(f\"prediction: {np.dot(x_train[i], final_w) + final_b:.2f} actual value is {y_train[i]}\" )\n",
    "    \n"
   ]
  },
  {
   "cell_type": "markdown",
   "id": "faf2555c",
   "metadata": {},
   "source": [
    "# Features scaling\n",
    "### z-score normalization \n",
    "After z-score normalization, all features will have a mean of 0 and a standard deviation of 1.\n",
    "\n",
    "To implement z-score normalization, adjust your input values as shown in this formula:\n",
    "$$x^{(i)}_j = \\dfrac{x^{(i)}_j - \\mu_j}{\\sigma_j} \\tag{4}$$ \n",
    "where $j$ selects a feature or a column in the $\\mathbf{X}$ matrix. $µ_j$ is the mean of all the values for feature (j) and $\\sigma_j$ is the standard deviation of feature (j).\n",
    "$$\n",
    "\\begin{align}\n",
    "\\mu_j &= \\frac{1}{m} \\sum_{i=0}^{m-1} x^{(i)}_j \\tag{5}\\\\\n",
    "\\sigma^2_j &= \\frac{1}{m} \\sum_{i=0}^{m-1} (x^{(i)}_j - \\mu_j)^2  \\tag{6}\n",
    "\\end{align}\n",
    "$$\n",
    "\n",
    ">**Implementation Note:** When normalizing the features, it is important\n",
    "to store the values used for normalization - the mean value and the standard deviation used for the computations. After learning the parameters\n",
    "from the model, we often want to predict the prices of houses we have not\n",
    "seen before. Given a new x value (living room area and number of bed-\n",
    "rooms), we must first normalize x using the mean and standard deviation\n",
    "that we had previously computed from the training set.\n",
    "\n",
    "**Implementation**"
   ]
  },
  {
   "cell_type": "code",
   "execution_count": 6,
   "id": "3dcde9e0",
   "metadata": {},
   "outputs": [],
   "source": [
    "def zscore_normalization(X):# x any n dimensions array\n",
    "    mu = np.mean(X, axis=0) # axis = 0 to make operation on columns\n",
    "    # mu shape will be an array of means of all features[mu1, mu2 .....]\n",
    "    sigma = np.std(X, axis=0)\n",
    "    \n",
    "    X_norm = (X - mu)/ sigma\n",
    "    \n",
    "    return X_norm, mu, sigma\n",
    "    "
   ]
  },
  {
   "cell_type": "code",
   "execution_count": 7,
   "id": "cce589cd",
   "metadata": {},
   "outputs": [],
   "source": [
    "x_norm, mean, sigma = zscore_normalization(x_train)"
   ]
  },
  {
   "cell_type": "code",
   "execution_count": 16,
   "id": "6ce7b7d1",
   "metadata": {},
   "outputs": [
    {
     "data": {
      "image/png": "[encoded data removed]",
      "text/plain": [
       "<Figure size 1152x360 with 2 Axes>"
      ]
     },
     "metadata": {
      "needs_background": "light"
     },
     "output_type": "display_data"
    }
   ],
   "source": [
    "fig, ax = plt.subplots(1, 2, figsize= (16,5))\n",
    "ax[0].scatter(x_train[:, 0], x_train[:, 3])\n",
    "ax[0].set_xlabel(x_features[0]); ax[0].set_ylabel(x_features[3])\n",
    "ax[0].set_title(\"unnormalized\")\n",
    "ax[0].axis('equal')\n",
    "\n",
    "ax[1].scatter(x_norm[:, 0], x_norm[:, 3])\n",
    "ax[1].set_xlabel(x_features[0]); ax[0].set_ylabel(x_features[3])\n",
    "ax[1].set_title(\"Z-score normalized\")\n",
    "ax[1].axis('equal')\n",
    "\n",
    "plt.show()"
   ]
  },
  {
   "cell_type": "markdown",
   "id": "6b75961f",
   "metadata": {},
   "source": [
    "Let's re-run our gradient descent algorithm with normalized data. Note the vastly larger value of alpha. This will speed up gradient descent."
   ]
  },
  {
   "cell_type": "code",
   "execution_count": 99,
   "id": "615556c8",
   "metadata": {},
   "outputs": [
    {
     "name": "stdout",
     "output_type": "stream",
     "text": [
      "  I     Cost       dj_dw_0      dj_dw_1      dj_dw_2       dj_dw_3         w0         w1        w2         w3         b\n",
      "---  -------  ------------  -----------  -----------  ------------  ---------  ---------  --------  ---------  --------\n",
      "0    61575.4  -89.152       -29.4873     -32.8014     59.6019         6.24064    2.06411    2.2961   -4.17214   25.4206\n",
      "100  231.382  -2.58034      1.22322      1.54879      -0.435525     103.147    -17.744    -28.3616  -39.2591   362.913\n",
      "200  216.168  -0.242488     0.121372     0.136634     -0.0472265    109.988    -21.0659   -32.348   -38.0063   363.151\n",
      "300  216.034  -0.0227628    0.0115018    0.0127027    -0.0044826    110.63     -21.3889   -32.7084  -37.8805   363.152\n",
      "400  216.033  -0.00213657   0.00108113   0.00119058   -0.000421405  110.691    -21.4194   -32.742   -37.8686   363.152\n",
      "500  216.033  -0.000200541  0.000101497  0.000111725  -3.95628e-05  110.696    -21.4223   -32.7451  -37.8675   363.152\n",
      "600  216.033  -1.8823e-05   9.52695e-06  1.04863e-05  -3.71354e-06  110.697    -21.4226   -32.7454  -37.8674   363.152\n",
      "700  216.033  -1.76675e-06  8.94214e-07  9.84245e-07  -3.48558e-07  110.697    -21.4226   -32.7455  -37.8674   363.152\n",
      "800  216.033  -1.65828e-07  8.39319e-08  9.23822e-08  -3.27161e-08  110.697    -21.4226   -32.7455  -37.8674   363.152\n",
      "900  216.033  -1.55648e-08  7.87794e-09  8.67109e-09  -3.07076e-09  110.697    -21.4226   -32.7455  -37.8674   363.152\n"
     ]
    }
   ],
   "source": [
    "initial_w = np.zeros_like(w_init)\n",
    "initial_b = 0.\n",
    "iterations = 1000\n",
    "alpha = 7.0e-2\n",
    "\n",
    "norm_w , norm_b = gradient_descent(x_norm, y_train, alpha,iterations, initial_w, initial_b, compute_gradient)"
   ]
  },
  {
   "cell_type": "markdown",
   "id": "ea64dee9",
   "metadata": {},
   "source": [
    "- cost function from 1429 to 216\n",
    "- all parametes updated in same time "
   ]
  },
  {
   "cell_type": "markdown",
   "id": "04d18d7f",
   "metadata": {},
   "source": [
    "# Test after features scaling"
   ]
  },
  {
   "cell_type": "code",
   "execution_count": 105,
   "id": "7c977a7e",
   "metadata": {},
   "outputs": [
    {
     "name": "stdout",
     "output_type": "stream",
     "text": [
      "prediction: 294.05 actual value is 300.0\n",
      "prediction: 486.77 actual value is 510.0\n",
      "prediction: 390.86 actual value is 394.0\n",
      "prediction: 492.40 actual value is 540.0\n",
      "prediction: 419.19 actual value is 415.0\n",
      "prediction: 222.82 actual value is 230.0\n",
      "prediction: 524.51 actual value is 560.0\n",
      "prediction: 268.41 actual value is 294.0\n",
      "prediction: 684.67 actual value is 718.0\n",
      "prediction: 181.81 actual value is 200.0\n"
     ]
    }
   ],
   "source": [
    "for i in range(10):\n",
    "    print(f\"prediction: {np.dot(x_norm[i], norm_w) + norm_b:.2f} actual value is {y_train[i]}\" )\n",
    "    \n"
   ]
  },
  {
   "cell_type": "code",
   "execution_count": 111,
   "id": "8a032ccf",
   "metadata": {},
   "outputs": [
    {
     "name": "stdout",
     "output_type": "stream",
     "text": [
      "[-0.53099987  0.43380884 -0.78927234  0.06269567]\n",
      " predicted price $318549\n"
     ]
    }
   ],
   "source": [
    "# First, normalize out example.\n",
    "x_house = np.array([1200, 3, 1, 40])\n",
    "x_house_norm = (x_house - mu) / sigma # mu and sigma from zscore_normalization function \n",
    "print(x_house_norm)\n",
    "x_house_predict = np.dot(x_house_norm, norm_w) + norm_b\n",
    "print(f\" predicted price ${x_house_predict*1000:0.0f}\")"
   ]
  },
  {
   "cell_type": "code",
   "execution_count": null,
   "id": "3cc06b18",
   "metadata": {},
   "outputs": [],
   "source": []
  },
  {
   "cell_type": "markdown",
   "id": "d68915fa",
   "metadata": {},
   "source": [
    "### Cost function :\n",
    "\n",
    "#### befor optimization => 222304.68 \n",
    "#### aftet optimization =>  1429.15 \n",
    "#### after features scaling => 216.03"
   ]
  },
  {
   "cell_type": "code",
   "execution_count": null,
   "id": "74d61ab1",
   "metadata": {},
   "outputs": [],
   "source": []
  }
 ],
 "metadata": {
  "kernelspec": {
   "display_name": "Python 3 (ipykernel)",
   "language": "python",
   "name": "python3"
  },
  "language_info": {
   "codemirror_mode": {
    "name": "ipython",
    "version": 3
   },
   "file_extension": ".py",
   "mimetype": "text/x-python",
   "name": "python",
   "nbconvert_exporter": "python",
   "pygments_lexer": "ipython3",
   "version": "3.9.12"
  }
 },
 "nbformat": 4,
 "nbformat_minor": 5
}
