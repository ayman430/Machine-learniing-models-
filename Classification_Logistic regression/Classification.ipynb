{
 "cells": [
  {
   "cell_type": "markdown",
   "id": "b62a166e",
   "metadata": {},
   "source": [
    "# Logistic Regression"
   ]
  },
  {
   "cell_type": "markdown",
   "id": "561d1841",
   "metadata": {},
   "source": [
    "### Problem Statement\n",
    "\n",
    "Suppose that you are the administrator of a university department and you want to determine each applicant’s chance of admission based on their results on two exams."
   ]
  },
  {
   "cell_type": "code",
   "execution_count": 54,
   "id": "0cb625b9",
   "metadata": {},
   "outputs": [],
   "source": [
    "import numpy as np\n",
    "import matplotlib.pyplot as plt\n",
    "import pandas as pd \n",
    "from tabulate import tabulate\n",
    "import copy, math"
   ]
  },
  {
   "cell_type": "code",
   "execution_count": 35,
   "id": "53f113a2",
   "metadata": {},
   "outputs": [
    {
     "data": {
      "text/html": [
       "<div>\n",
       "<style scoped>\n",
       "    .dataframe tbody tr th:only-of-type {\n",
       "        vertical-align: middle;\n",
       "    }\n",
       "\n",
       "    .dataframe tbody tr th {\n",
       "        vertical-align: top;\n",
       "    }\n",
       "\n",
       "    .dataframe thead th {\n",
       "        text-align: right;\n",
       "    }\n",
       "</style>\n",
       "<table border=\"1\" class=\"dataframe\">\n",
       "  <thead>\n",
       "    <tr style=\"text-align: right;\">\n",
       "      <th></th>\n",
       "      <th>exam1</th>\n",
       "      <th>exam2</th>\n",
       "      <th>admitted</th>\n",
       "    </tr>\n",
       "  </thead>\n",
       "  <tbody>\n",
       "    <tr>\n",
       "      <th>0</th>\n",
       "      <td>30.286711</td>\n",
       "      <td>43.894998</td>\n",
       "      <td>0</td>\n",
       "    </tr>\n",
       "    <tr>\n",
       "      <th>1</th>\n",
       "      <td>35.847409</td>\n",
       "      <td>72.902198</td>\n",
       "      <td>0</td>\n",
       "    </tr>\n",
       "    <tr>\n",
       "      <th>2</th>\n",
       "      <td>60.182599</td>\n",
       "      <td>86.308552</td>\n",
       "      <td>1</td>\n",
       "    </tr>\n",
       "    <tr>\n",
       "      <th>3</th>\n",
       "      <td>79.032736</td>\n",
       "      <td>75.344376</td>\n",
       "      <td>1</td>\n",
       "    </tr>\n",
       "    <tr>\n",
       "      <th>4</th>\n",
       "      <td>45.083277</td>\n",
       "      <td>56.316372</td>\n",
       "      <td>0</td>\n",
       "    </tr>\n",
       "  </tbody>\n",
       "</table>\n",
       "</div>"
      ],
      "text/plain": [
       "       exam1      exam2  admitted\n",
       "0  30.286711  43.894998         0\n",
       "1  35.847409  72.902198         0\n",
       "2  60.182599  86.308552         1\n",
       "3  79.032736  75.344376         1\n",
       "4  45.083277  56.316372         0"
      ]
     },
     "execution_count": 35,
     "metadata": {},
     "output_type": "execute_result"
    }
   ],
   "source": [
    "exams_data = pd.read_csv(\"Twoexams_results.csv\")\n",
    "exams_data.head(5)"
   ]
  },
  {
   "cell_type": "code",
   "execution_count": 32,
   "id": "82beb84b",
   "metadata": {},
   "outputs": [
    {
     "data": {
      "text/plain": [
       "(99, 2)"
      ]
     },
     "execution_count": 32,
     "metadata": {},
     "output_type": "execute_result"
    }
   ],
   "source": [
    "x_train = np.array(exams_data.loc[:,'exam1':'exam2'])\n",
    "y_train = np.array(exams_data['admitted'])\n",
    "m, n = x_train.shape\n",
    "m,n"
   ]
  },
  {
   "cell_type": "code",
   "execution_count": 23,
   "id": "6432ffd2",
   "metadata": {},
   "outputs": [
    {
     "data": {
      "text/plain": [
       "(array([[30.28671077, 43.89499752],\n",
       "        [35.84740877, 72.90219803],\n",
       "        [60.18259939, 86.3085521 ],\n",
       "        [79.03273605, 75.34437644],\n",
       "        [45.08327748, 56.31637178]]),\n",
       " array([0, 0, 1, 1, 0], dtype=int64))"
      ]
     },
     "execution_count": 23,
     "metadata": {},
     "output_type": "execute_result"
    }
   ],
   "source": [
    "x_train[:5,:], y_train[:5]"
   ]
  },
  {
   "cell_type": "code",
   "execution_count": 29,
   "id": "6289703f",
   "metadata": {},
   "outputs": [
    {
     "data": {
      "image/png": "[encoded data removed]",
      "text/plain": [
       "<Figure size 432x432 with 1 Axes>"
      ]
     },
     "metadata": {
      "needs_background": "light"
     },
     "output_type": "display_data"
    }
   ],
   "source": [
    "pos = y_train == 1\n",
    "neg = y_train == 0\n",
    "fig, ax = plt.subplots(1, 1, figsize=(6,6))\n",
    "ax.scatter(x_train[pos, 0], x_train[pos, 1], marker='+', c='black', label='addmited')\n",
    "ax.scatter(x_train[neg, 0], x_train[neg, 1], marker='o', c='r', label='not addmited')\n",
    "plt.ylabel('Exam 2 score') \n",
    "# Set the x-axis label\n",
    "plt.xlabel('Exam 1 score') \n",
    "plt.legend(loc=\"upper right\")\n",
    "plt.show()"
   ]
  },
  {
   "cell_type": "markdown",
   "id": "11539439",
   "metadata": {},
   "source": [
    "### Sigmoid Function <br>\n",
    "$$ f_{\\mathbf{w},b}(\\mathbf{x}^{(i)}) = g(\\mathbf{w} \\cdot \\mathbf{x}^{(i)} + b )  $$ \n"
   ]
  },
  {
   "cell_type": "code",
   "execution_count": 37,
   "id": "015aa76f",
   "metadata": {},
   "outputs": [],
   "source": [
    "def sigmoid_function(z):\n",
    "    return 1 / (1 + np.exp(-z))"
   ]
  },
  {
   "cell_type": "code",
   "execution_count": 38,
   "id": "e1b9e5f8",
   "metadata": {},
   "outputs": [
    {
     "name": "stdout",
     "output_type": "stream",
     "text": [
      "sigmod(0) = 0.5\n"
     ]
    }
   ],
   "source": [
    "print(f\"sigmod(0) = {sigmoid_function(0)}\")"
   ]
  },
  {
   "cell_type": "markdown",
   "id": "df1b2bcf",
   "metadata": {},
   "source": [
    "### Cost function\n",
    "\n",
    "In a previous lab, you developed the *logistic loss* function. Recall, loss is defined to apply to one example. Here you combine the losses to form the **cost**, which includes all the examples.\n",
    "\n",
    "\n",
    "Recall that for logistic regression, the cost function is of the form \n",
    "\n",
    "$$ J(\\mathbf{w},b) = \\frac{1}{m} \\sum_{i=0}^{m-1} \\left[ loss(f_{\\mathbf{w},b}(\\mathbf{x}^{(i)}), y^{(i)}) \\right] \\tag{1}$$\n",
    "\n",
    "where\n",
    "* $loss(f_{\\mathbf{w},b}(\\mathbf{x}^{(i)}), y^{(i)})$ is the cost for a single data point, which is:\n",
    "\n",
    "    $$loss(f_{\\mathbf{w},b}(\\mathbf{x}^{(i)}), y^{(i)}) = -y^{(i)} \\log\\left(f_{\\mathbf{w},b}\\left( \\mathbf{x}^{(i)} \\right) \\right) - \\left( 1 - y^{(i)}\\right) \\log \\left( 1 - f_{\\mathbf{w},b}\\left( \\mathbf{x}^{(i)} \\right) \\right) \\tag{2}$$\n",
    "    \n",
    "*  where m is the number of training examples in the data set and:\n",
    "$$\n",
    "\\begin{align}\n",
    "  f_{\\mathbf{w},b}(\\mathbf{x^{(i)}}) &= g(z^{(i)})\\tag{3} \\\\\n",
    "  z^{(i)} &= \\mathbf{w} \\cdot \\mathbf{x}^{(i)}+ b\\tag{4} \\\\\n",
    "  g(z^{(i)}) &= \\frac{1}{1+e^{-z^{(i)}}}\\tag{5} \n",
    "\\end{align}\n",
    "$$\n",
    " "
   ]
  },
  {
   "cell_type": "code",
   "execution_count": 43,
   "id": "f5ecbe29",
   "metadata": {},
   "outputs": [],
   "source": [
    "def compute_logistic_cost(x, y, w, b):\n",
    "    cost = 0.0\n",
    "    for i in range(m):\n",
    "        z_i = np.dot(x[i], w) + b\n",
    "        f_wb = sigmoid_function(z_i)\n",
    "        cost += (-y[i] * np.log(f_wb) - (1 - y[i]) * np.log(1 - f_wb))\n",
    "    \n",
    "    cost = cost / m\n",
    "    return cost"
   ]
  },
  {
   "cell_type": "code",
   "execution_count": 45,
   "id": "a1ade392",
   "metadata": {},
   "outputs": [
    {
     "data": {
      "text/plain": [
       "0.6931471805599458"
      ]
     },
     "execution_count": 45,
     "metadata": {},
     "output_type": "execute_result"
    }
   ],
   "source": [
    "w_in = np.zeros(n)\n",
    "b_in = 0\n",
    "\n",
    "compute_logistic_cost(x_train, y_train, w_in, b_in)"
   ]
  },
  {
   "cell_type": "markdown",
   "id": "94edbfe7",
   "metadata": {},
   "source": [
    "### Logistic Gradient Descent\n",
    "\n",
    "Recall the gradient descent algorithm utilizes the gradient calculation:\n",
    "$$\\begin{align*}\n",
    "&\\text{repeat until convergence:} \\; \\lbrace \\\\\n",
    "&  \\; \\; \\;w_j = w_j -  \\alpha \\frac{\\partial J(\\mathbf{w},b)}{\\partial w_j} \\tag{1}  \\; & \\text{for j := 0..n-1} \\\\ \n",
    "&  \\; \\; \\;  \\; \\;b = b -  \\alpha \\frac{\\partial J(\\mathbf{w},b)}{\\partial b} \\\\\n",
    "&\\rbrace\n",
    "\\end{align*}$$\n",
    "\n",
    "Where each iteration performs simultaneous updates on $w_j$ for all $j$, where\n",
    "$$\\begin{align*}\n",
    "\\frac{\\partial J(\\mathbf{w},b)}{\\partial w_j}  &= \\frac{1}{m} \\sum\\limits_{i = 0}^{m-1} (f_{\\mathbf{w},b}(\\mathbf{x}^{(i)}) - y^{(i)})x_{j}^{(i)} \\tag{2} \\\\\n",
    "\\frac{\\partial J(\\mathbf{w},b)}{\\partial b}  &= \\frac{1}{m} \\sum\\limits_{i = 0}^{m-1} (f_{\\mathbf{w},b}(\\mathbf{x}^{(i)}) - y^{(i)}) \\tag{3} \n",
    "\\end{align*}$$\n",
    "\n",
    "* m is the number of training examples in the data set      \n",
    "* $f_{\\mathbf{w},b}(x^{(i)})$ is the model's prediction, while $y^{(i)}$ is the target\n",
    "* For a logistic regression model  \n",
    "    $z = \\mathbf{w} \\cdot \\mathbf{x} + b$  \n",
    "    $f_{\\mathbf{w},b}(x) = g(z)$  \n",
    "    where $g(z)$ is the sigmoid function:  \n",
    "    $g(z) = \\frac{1}{1+e^{-z}}$   \n",
    "    \n"
   ]
  },
  {
   "cell_type": "code",
   "execution_count": 47,
   "id": "91d29a73",
   "metadata": {},
   "outputs": [],
   "source": [
    "def compute_gradient(x, y, w, b):\n",
    "    dj_dw = np.zeros((n,))\n",
    "    dj_db = 0.\n",
    "    \n",
    "    for i in range(m):\n",
    "        z_i = np.dot(w, x[i]) + b\n",
    "        f_wb = sigmoid_function(z_i)\n",
    "        err = f_wb - y[i]\n",
    "        \n",
    "        for j in range(n):\n",
    "            dj_dw[j] = dj_dw[j] + err * x[i, j]\n",
    "        \n",
    "        dj_db += err\n",
    "        \n",
    "    dj_dw = dj_dw / m\n",
    "    dj_db = dj_db / m\n",
    "        \n",
    "    return dj_dw, dj_db"
   ]
  },
  {
   "cell_type": "code",
   "execution_count": 48,
   "id": "654aad3b",
   "metadata": {},
   "outputs": [
    {
     "name": "stdout",
     "output_type": "stream",
     "text": [
      "dj_dw: [-12.30538878 -11.77067239]\n",
      "dj_db: -0.10606060606060606\n"
     ]
    }
   ],
   "source": [
    "dj_dw, dj_db = compute_gradient(x_train, y_train, w_in, b_in)\n",
    "print(f\"dj_dw: {dj_dw}\" )\n",
    "print(f\"dj_db: {dj_db}\" )"
   ]
  },
  {
   "cell_type": "markdown",
   "id": "b1459ce4",
   "metadata": {},
   "source": [
    "###  Learning parameters using gradient descent"
   ]
  },
  {
   "cell_type": "code",
   "execution_count": 68,
   "id": "67a76276",
   "metadata": {},
   "outputs": [],
   "source": [
    "def gradient_descent(x, y, alpha, iteration_num, initil_w, initil_b, compute_gradient):\n",
    "    \n",
    "    w = copy.deepcopy(w_in) \n",
    "    b = initil_b \n",
    "    j_history= []\n",
    "    data = []\n",
    "\n",
    "    for i in range(iteration_num):\n",
    "        dj_dw, dj_db = compute_gradient(x, y, w, b)\n",
    "        \n",
    "        w = w - alpha * dj_dw\n",
    "        b = b - alpha * dj_db\n",
    "         # View test points\n",
    "        j_history.append(compute_logistic_cost(x, y, w, b))\n",
    "\n",
    "        if i % 1000 == 0:\n",
    "             ## Initialize the data\n",
    "            row = [i, j_history[i], dj_dw[0], dj_dw[1],dj_db, w[0], w[1], b]\n",
    "            data.append(row)\n",
    "\n",
    "    # Define the table headers\n",
    "    headers = [\"iterations\", \"Cost\", \"dj_dw_0\", \"dj_dw_1\",\"dj_db\",\"w0\",\"w1\", \"b\"]\n",
    "\n",
    "    # Print the table\n",
    "    print(tabulate(data, headers=headers,colalign='right'))\n",
    "    return w , b"
   ]
  },
  {
   "cell_type": "code",
   "execution_count": 69,
   "id": "c6ce75f6",
   "metadata": {},
   "outputs": [
    {
     "name": "stdout",
     "output_type": "stream",
     "text": [
      "  iterations      Cost       dj_dw_0       dj_dw_1      dj_db         w0         w1         b\n",
      "------------  --------  ------------  ------------  ---------  ---------  ---------  --------\n",
      "0             0.938976  -45.2592      -44.7978      -0.605689  0.0492153  0.0423297  -7.99939\n",
      "1000          0.303792  -0.000148824  -0.000149664  0.0189935  0.0689198  0.0648192  -8.01814\n",
      "2000          0.303432  -0.000148352  -0.00014918   0.018931   0.0690684  0.0649686  -8.03711\n",
      "3000          0.303075  -0.000147884  -0.000148699  0.0188689  0.0692165  0.0651176  -8.05601\n",
      "4000          0.30272   -0.000147418  -0.000148222  0.0188072  0.0693642  0.065266   -8.07484\n",
      "5000          0.302367  -0.000146955  -0.000147747  0.018746   0.0695113  0.065414   -8.09362\n",
      "6000          0.302017  -0.000146495  -0.000147276  0.0186851  0.0696581  0.0655615  -8.11234\n",
      "7000          0.301669  -0.000146038  -0.000146807  0.0186246  0.0698043  0.0657086  -8.13099\n",
      "8000          0.301323  -0.000145584  -0.000146342  0.0185645  0.0699501  0.0658552  -8.14958\n",
      "9000          0.30098   -0.000145133  -0.00014588   0.0185049  0.0700955  0.0660013  -8.16812\n",
      "10000         0.300638  -0.000144685  -0.00014542   0.0184456  0.0702404  0.0661469  -8.18659\n"
     ]
    },
    {
     "data": {
      "text/plain": [
       "(array([0.07024042, 0.06614691]), -8.186594313949268)"
      ]
     },
     "execution_count": 69,
     "metadata": {},
     "output_type": "execute_result"
    }
   ],
   "source": [
    "iterations = 10001\n",
    "alpha = 0.001\n",
    "w_in = 0.01 * (np.random.rand(2) - 0.5) # from lab\n",
    "b_in = -8\n",
    "finish_w, finish_b = gradient_descent(x_train, y_train, alpha,iterations, w_in, b_in, compute_gradient)\n",
    "finish_w , finish_b"
   ]
  },
  {
   "cell_type": "code",
   "execution_count": 70,
   "id": "b532a06a",
   "metadata": {},
   "outputs": [
    {
     "data": {
      "text/plain": [
       "0.06614691347339081"
      ]
     },
     "execution_count": 70,
     "metadata": {},
     "output_type": "execute_result"
    }
   ],
   "source": [
    "finish_w[1]"
   ]
  },
  {
   "cell_type": "markdown",
   "id": "be983262",
   "metadata": {},
   "source": [
    "## Decision Boundary"
   ]
  },
  {
   "cell_type": "markdown",
   "id": "46dd3625",
   "metadata": {},
   "source": [
    " at z = 0\n",
    " z = w0.x0 + w1.x1 + b \n",
    " 0.07024042.x0 + 0.06614691.x1 - 8.186594313949268 = 0\n",
    " x1 = (-b - w0.x0) / w1"
   ]
  },
  {
   "cell_type": "code",
   "execution_count": 76,
   "id": "69a31a5a",
   "metadata": {},
   "outputs": [
    {
     "data": {
      "image/png": "[encoded data removed]",
      "text/plain": [
       "<Figure size 432x432 with 1 Axes>"
      ]
     },
     "metadata": {
      "needs_background": "light"
     },
     "output_type": "display_data"
    }
   ],
   "source": [
    "pos = y_train == 1\n",
    "neg = y_train == 0\n",
    "x_0 = np.arange(m)\n",
    "x_1 = (-finish_b - finish_w[0]* x_0) / finish_w[1]\n",
    "fig, ax = plt.subplots(1, 1, figsize=(6,6))\n",
    "ax.scatter(x_train[pos, 0], x_train[pos, 1], marker='+', c='black', label='addmited')\n",
    "ax.scatter(x_train[neg, 0], x_train[neg, 1], marker='o', c='r', label='not addmited')\n",
    "ax.plot(x_0, x_1)\n",
    "plt.ylabel('Exam 2 score') \n",
    "# Set the x-axis label\n",
    "plt.xlabel('Exam 1 score') \n",
    "plt.legend(loc=\"upper right\")\n",
    "ax.set_xlim([30, 100])\n",
    "ax.set_ylim([30, 100])\n",
    "plt.show()"
   ]
  },
  {
   "cell_type": "markdown",
   "id": "3a735a61",
   "metadata": {},
   "source": [
    "### Evaluating logistic regression\n",
    "\n",
    " complete the `predict` function to produce `1` or `0` predictions given a dataset and a learned parameter vector $w$ and $b$."
   ]
  },
  {
   "cell_type": "code",
   "execution_count": 85,
   "id": "32b874bb",
   "metadata": {},
   "outputs": [],
   "source": [
    "# UNQ_C4\n",
    "# GRADED FUNCTION: predict\n",
    "\n",
    "def predict(x, w, b): \n",
    "    m, n = x.shape\n",
    "    p = np.zeros(m)\n",
    "   \n",
    "    for i in range(m):  \n",
    "        \n",
    "        z_wb = np.dot(w, x[i]) + b\n",
    "        # Calculate the prediction for this example\n",
    "        f_wb = sigmoid_function(z_wb)\n",
    "\n",
    "        # Apply the threshold\n",
    "        p[i] = 1 if f_wb >= .5 else 0 \n",
    "        \n",
    "    ### END CODE HERE ### \n",
    "    return p"
   ]
  },
  {
   "cell_type": "code",
   "execution_count": 86,
   "id": "f33fa69a",
   "metadata": {},
   "outputs": [
    {
     "data": {
      "text/plain": [
       "(array([[30.28671077, 43.89499752],\n",
       "        [35.84740877, 72.90219803],\n",
       "        [60.18259939, 86.3085521 ],\n",
       "        [79.03273605, 75.34437644],\n",
       "        [45.08327748, 56.31637178]]),\n",
       " array([0, 0, 1, 1, 0], dtype=int64))"
      ]
     },
     "execution_count": 86,
     "metadata": {},
     "output_type": "execute_result"
    }
   ],
   "source": [
    "x_test = x_train[:5, :]\n",
    "x_test , y_train[:5]"
   ]
  },
  {
   "cell_type": "code",
   "execution_count": 87,
   "id": "2e4716e9",
   "metadata": {},
   "outputs": [
    {
     "data": {
      "text/plain": [
       "array([0., 0., 1., 1., 0.])"
      ]
     },
     "execution_count": 87,
     "metadata": {},
     "output_type": "execute_result"
    }
   ],
   "source": [
    "estimated_values = predict(x_test, finish_w, finish_b) \n",
    "estimated_values"
   ]
  },
  {
   "cell_type": "code",
   "execution_count": 88,
   "id": "fce07665",
   "metadata": {},
   "outputs": [
    {
     "data": {
      "text/plain": [
       "array([0., 0., 1., 1., 0., 1., 1., 1., 1., 1., 0., 1., 1., 0., 1., 1., 0.,\n",
       "       1., 1., 0., 1., 0., 0., 1., 1., 1., 1., 0., 0., 1., 1., 0., 1., 0.,\n",
       "       0., 1., 1., 0., 0., 1., 0., 1., 1., 0., 0., 1., 1., 1., 1., 1., 1.,\n",
       "       1., 0., 0., 0., 1., 1., 1., 1., 1., 0., 0., 0., 0., 0., 1., 0., 1.,\n",
       "       1., 0., 1., 1., 1., 1., 1., 1., 1., 0., 1., 1., 1., 1., 0., 1., 1.,\n",
       "       0., 1., 1., 0., 1., 1., 0., 1., 1., 1., 1., 1., 0., 1.])"
      ]
     },
     "execution_count": 88,
     "metadata": {},
     "output_type": "execute_result"
    }
   ],
   "source": [
    "estimated_values = predict(x_train, finish_w, finish_b) \n",
    "estimated_values"
   ]
  },
  {
   "cell_type": "code",
   "execution_count": 95,
   "id": "6250c876",
   "metadata": {},
   "outputs": [],
   "source": [
    "true_sum = (estimated_values == y_train).sum()"
   ]
  },
  {
   "cell_type": "markdown",
   "id": "e823b8db",
   "metadata": {},
   "source": [
    "### Accuracy"
   ]
  },
  {
   "cell_type": "code",
   "execution_count": 100,
   "id": "893d7b86",
   "metadata": {},
   "outputs": [
    {
     "name": "stdout",
     "output_type": "stream",
     "text": [
      "Train Accuracy:92 %\n"
     ]
    }
   ],
   "source": [
    "print(f'Train Accuracy:{(true_sum / y_train.size ) * 100:.0f} %')"
   ]
  },
  {
   "cell_type": "code",
   "execution_count": 106,
   "id": "0e2e7d21",
   "metadata": {},
   "outputs": [
    {
     "data": {
      "text/plain": [
       "array([1.])"
      ]
     },
     "execution_count": 106,
     "metadata": {},
     "output_type": "execute_result"
    }
   ],
   "source": [
    "test = np.array([[65, 58]])\n",
    "predict(test ,finish_w, finish_b)"
   ]
  },
  {
   "cell_type": "code",
   "execution_count": 111,
   "id": "65b6ce32",
   "metadata": {},
   "outputs": [
    {
     "name": "stdout",
     "output_type": "stream",
     "text": [
      "[[ 98  51]\n",
      " [ 45  69]\n",
      " [ 36  54]\n",
      " [ 47  45]\n",
      " [ 66  64]\n",
      " [100  87]\n",
      " [ 38  63]\n",
      " [ 98  85]\n",
      " [ 43  64]\n",
      " [ 34  44]]\n"
     ]
    },
    {
     "data": {
      "text/plain": [
       "array([1., 0., 0., 0., 1., 1., 0., 1., 0., 0.])"
      ]
     },
     "execution_count": 111,
     "metadata": {},
     "output_type": "execute_result"
    }
   ],
   "source": [
    "test_array_2d = np.random.randint(low=30, high=101, size=(10, 2))\n",
    "print(test_array_2d)\n",
    "predict(test_array_2d ,finish_w, finish_b) "
   ]
  },
  {
   "cell_type": "code",
   "execution_count": null,
   "id": "58faea6e",
   "metadata": {},
   "outputs": [],
   "source": []
  }
 ],
 "metadata": {
  "kernelspec": {
   "display_name": "Python 3 (ipykernel)",
   "language": "python",
   "name": "python3"
  },
  "language_info": {
   "codemirror_mode": {
    "name": "ipython",
    "version": 3
   },
   "file_extension": ".py",
   "mimetype": "text/x-python",
   "name": "python",
   "nbconvert_exporter": "python",
   "pygments_lexer": "ipython3",
   "version": "3.9.12"
  }
 },
 "nbformat": 4,
 "nbformat_minor": 5
}
