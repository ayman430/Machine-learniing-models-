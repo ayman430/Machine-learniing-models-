{
 "cells": [
  {
   "cell_type": "markdown",
   "id": "20b8d83c",
   "metadata": {},
   "source": [
    "# Using Gradient descent \n",
    "## => preparation steps \n",
    "        1 - Tools preparation (numpy , matplotlib, pandas) \n",
    "        2 - Dataset preparation and get m \n",
    "## =>  Implement  Gradient descent  need 3 functions \n",
    "   ### -- Cost function \n",
    "        - for compute error \n",
    "   ### -- Compute_ gradient \n",
    "        - for compute partial derevatives of J(w,b)\n",
    "   ### -- Gradient descent algorithm \n",
    "        - Update w , b\n",
    " "
   ]
  },
  {
   "cell_type": "markdown",
   "id": "daab1df9",
   "metadata": {},
   "source": [
    "# Notes\n",
    "## 1- Here simultaniously means that you calculate the partial derivatives for all the parameters before updating any of the parameters"
   ]
  },
  {
   "cell_type": "code",
   "execution_count": 244,
   "id": "de30f551",
   "metadata": {},
   "outputs": [],
   "source": [
    "# step 1 \n",
    "import numpy as np\n",
    "import matplotlib.pyplot as plt\n",
    "import pandas as pd\n"
   ]
  },
  {
   "cell_type": "code",
   "execution_count": 296,
   "id": "c3515dda",
   "metadata": {},
   "outputs": [
    {
     "data": {
      "text/plain": [
       "(Index(['SqFt', 'Price'], dtype='object'),\n",
       "    SqFt   Price\n",
       " 0  1790  114300\n",
       " 1  2030  114200\n",
       " 2  1740  114800\n",
       " 3  1980   94700\n",
       " 4  2130  119800\n",
       " 5  1780  114600\n",
       " 6  1830  151600\n",
       " 7  2160  150700\n",
       " 8  2110  119200\n",
       " 9  1730  104000)"
      ]
     },
     "execution_count": 296,
     "metadata": {},
     "output_type": "execute_result"
    }
   ],
   "source": [
    "house_data = pd.read_csv(\"house data_one variable.csv\")\n",
    "house_data.columns , house_data.head(10)"
   ]
  },
  {
   "cell_type": "code",
   "execution_count": 297,
   "id": "5832cda0",
   "metadata": {},
   "outputs": [],
   "source": [
    "x_train = np.array(house_data['SqFt'])\n",
    "y_train = np.array(house_data['Price'])"
   ]
  },
  {
   "cell_type": "code",
   "execution_count": 298,
   "id": "cd9efad6",
   "metadata": {},
   "outputs": [],
   "source": [
    "# # step 2\n",
    "# # describe house price (y *1000) $ using size (x * 1000) feet square\n",
    "# x_train = np.array([1, 2, 1.2, 1.5, 3, 4.5, 2.3, 3.5])\n",
    "# y_train = np.array([300, 500, 290, 370, 600, 950, 530, 420])"
   ]
  },
  {
   "cell_type": "code",
   "execution_count": 299,
   "id": "fa1cdef4",
   "metadata": {},
   "outputs": [
    {
     "data": {
      "text/plain": [
       "(128,)"
      ]
     },
     "execution_count": 299,
     "metadata": {},
     "output_type": "execute_result"
    }
   ],
   "source": [
    "x_train.shape"
   ]
  },
  {
   "cell_type": "code",
   "execution_count": 249,
   "id": "3e2110f9",
   "metadata": {},
   "outputs": [
    {
     "data": {
      "text/plain": [
       "128"
      ]
     },
     "execution_count": 249,
     "metadata": {},
     "output_type": "execute_result"
    }
   ],
   "source": [
    "# get sample size m\n",
    "m = x_train.shape[0]\n",
    "m"
   ]
  },
  {
   "cell_type": "code",
   "execution_count": 268,
   "id": "fab1e61b",
   "metadata": {
    "scrolled": true
   },
   "outputs": [
    {
     "data": {
      "image/png": "[encoded data removed]",
      "text/plain": [
       "<Figure size 432x288 with 1 Axes>"
      ]
     },
     "metadata": {
      "needs_background": "light"
     },
     "output_type": "display_data"
    }
   ],
   "source": [
    "plt.scatter(x_train, y_train, marker='x', c='g')\n",
    "plt.title(\"House cost\")\n",
    "plt.xlabel(\"Size feet **2 \")\n",
    "plt.ylabel(\"price\")\n",
    "plt.show()"
   ]
  },
  {
   "cell_type": "markdown",
   "id": "c6853ae5",
   "metadata": {},
   "source": [
    "## y = w * x + b\n",
    "\n",
    "\n",
    "## Cost function \n",
    "$$J(w,b) = \\frac{1}{2m} \\sum\\limits_{i = 0}^{m-1} (f_{w,b}(x^{(i)}) - y^{(i)})^2\\tag{2}$$ "
   ]
  },
  {
   "cell_type": "code",
   "execution_count": 269,
   "id": "8d24b6b4",
   "metadata": {},
   "outputs": [],
   "source": [
    "# Cost function \n",
    "def compute_cost(x, y, w, b):\n",
    "    cost = 0\n",
    "    for i in range(m):\n",
    "        f_wd = w * x[i] + b  # compute f_wb(y_hat) prediction value\n",
    "        cost += (f_wd - y[i])**2\n",
    "        \n",
    "    return  cost / (2 * m ) \n",
    "    \n",
    "    "
   ]
  },
  {
   "cell_type": "code",
   "execution_count": 252,
   "id": "a5877425",
   "metadata": {},
   "outputs": [
    {
     "data": {
      "text/plain": [
       "14816714687.5"
      ]
     },
     "execution_count": 252,
     "metadata": {},
     "output_type": "execute_result"
    }
   ],
   "source": [
    "compute_cost(x_train, y_train, 150, 150) "
   ]
  },
  {
   "cell_type": "markdown",
   "id": "25234d9a",
   "metadata": {},
   "source": [
    "In lecture, *gradient descent* was described as\n",
    "\n",
    "$$\\begin{align*} \\text{repeat}&\\text{ until convergence:} \\; \\lbrace \\newline\n",
    "\\;  w &= w -  \\alpha \\frac{\\partial J(w,b)}{\\partial w} \\tag{3}  \\; \\newline \n",
    " b &= b -  \\alpha \\frac{\\partial J(w,b)}{\\partial b}  \\newline \\rbrace\n",
    "\\end{align*}$$\n",
    "where, parameters $w$, $b$ are updated simultaneously.  \n",
    "The gradient is defined as:\n",
    "$$\n",
    "\\begin{align}\n",
    "\\frac{\\partial J(w,b)}{\\partial w}  &= \\frac{1}{m} \\sum\\limits_{i = 0}^{m-1} (f_{w,b}(x^{(i)}) - y^{(i)})x^{(i)} \\tag{4}\\\\\n",
    "  \\frac{\\partial J(w,b)}{\\partial b}  &= \\frac{1}{m} \\sum\\limits_{i = 0}^{m-1} (f_{w,b}(x^{(i)}) - y^{(i)}) \\tag{5}\\\\\n",
    "\\end{align}\n",
    "$$\n",
    "\n"
   ]
  },
  {
   "cell_type": "markdown",
   "id": "85ca9955",
   "metadata": {},
   "source": [
    "# Compute gradient  dj_dw, dj_db\n",
    "\n",
    "## Impotrant Note\n",
    "Update w, b simultaniously =>  means that you calculate the partial derivatives for all the parameters before updating any of the parameters."
   ]
  },
  {
   "cell_type": "code",
   "execution_count": 253,
   "id": "779ee7da",
   "metadata": {},
   "outputs": [],
   "source": [
    "def compute_gradient(x, y, w, b):\n",
    "    dj_dw = 0\n",
    "    dj_db = 0\n",
    "    \n",
    "    for i in range(m):\n",
    "        f_wd = w * x[i] + b\n",
    "        dj_dw += (f_wd - y[i]) * x[i]\n",
    "        dj_db += (f_wd - y[i]) \n",
    "        \n",
    "    dj_dw += dj_dw / m\n",
    "    dj_db += dj_db / m\n",
    "        \n",
    "    \n",
    "    return dj_dw, dj_db   \n",
    "    "
   ]
  },
  {
   "cell_type": "markdown",
   "id": "fd9ed6b3",
   "metadata": {},
   "source": [
    "# Gradient descent"
   ]
  },
  {
   "cell_type": "code",
   "execution_count": 254,
   "id": "5ed145e2",
   "metadata": {},
   "outputs": [],
   "source": [
    "def gradient_descent(x, y, w_intial, b_intial, alpha,num_itrerations, compute_cost, compute_gradient):\n",
    "    \n",
    "    j_history = []\n",
    "    w = w_intial\n",
    "    b = b_intial\n",
    "\n",
    "    for g in range(num_itrerations + 1):\n",
    "        dj_dw, dj_db = compute_gradient(x, y, w, b)\n",
    "\n",
    "        w = w - alpha * dj_dw\n",
    "        b = b - alpha * dj_db\n",
    "    \n",
    "        # View test points\n",
    "        j_history.append(compute_cost(x, y, w, b))\n",
    "    \n",
    "        if g % 500 == 0:\n",
    "            print(f\"Iteration: {g:4}, Cost: {j_history[-1]: .2e}, dj_dw: {dj_dw: 0.3e}, dj_db: {dj_db: 0.3e}, w: {w: 0.3e}, b:{b: 0.5e}\")\n",
    "    \n",
    "    \n",
    "    return w, b   \n",
    "    \n",
    "    "
   ]
  },
  {
   "cell_type": "code",
   "execution_count": 281,
   "id": "a04f80c1",
   "metadata": {
    "scrolled": true
   },
   "outputs": [
    {
     "name": "stdout",
     "output_type": "stream",
     "text": [
      "Iteration:    0, Cost:  2.22e+09, dj_dw: -3.407e+10, dj_db: -1.683e+07, w:  3.407e+01, b: 1.68251e-02\n",
      "Iteration:  500, Cost:  2.49e+08, dj_dw: -7.059e+00, dj_db:  1.428e+04, w:  6.524e+01, b: 2.50910e-02\n",
      "Iteration: 1000, Cost:  2.49e+08, dj_dw: -7.059e+00, dj_db:  1.428e+04, w:  6.524e+01, b: 1.79501e-02\n",
      "Iteration: 1500, Cost:  2.49e+08, dj_dw: -7.059e+00, dj_db:  1.428e+04, w:  6.524e+01, b: 1.08092e-02\n",
      "Iteration: 2000, Cost:  2.49e+08, dj_dw: -7.059e+00, dj_db:  1.428e+04, w:  6.524e+01, b: 3.66828e-03\n",
      "Iteration: 2500, Cost:  2.49e+08, dj_dw: -7.059e+00, dj_db:  1.428e+04, w:  6.524e+01, b:-3.47263e-03\n",
      "Iteration: 3000, Cost:  2.49e+08, dj_dw: -7.059e+00, dj_db:  1.428e+04, w:  6.524e+01, b:-1.06135e-02\n",
      "Iteration: 3500, Cost:  2.49e+08, dj_dw: -7.059e+00, dj_db:  1.428e+04, w:  6.524e+01, b:-1.77544e-02\n",
      "Iteration: 4000, Cost:  2.49e+08, dj_dw: -7.059e+00, dj_db:  1.428e+04, w:  6.524e+01, b:-2.48953e-02\n",
      "final w = 65.23845950456253, final b = -0.02489530747878169\n"
     ]
    }
   ],
   "source": [
    "# initialize parameters\n",
    "w_init = 0\n",
    "b_init = 0\n",
    "# some gradient descent settings\n",
    "iterations = 4000\n",
    "tmp_alpha = .000000001\n",
    "\n",
    "finil_w, finil_b = gradient_descent(x_train, y_train, w_init, b_init, tmp_alpha, iterations, compute_cost, compute_gradient)\n",
    "print(f\"final w = {finil_w}, final b = {finil_b}\")"
   ]
  },
  {
   "cell_type": "markdown",
   "id": "73773e1d",
   "metadata": {},
   "source": [
    "## Results show that we arrive to minimum cost  at iteration 500 so we can set # iterations = 700 for example"
   ]
  },
  {
   "cell_type": "code",
   "execution_count": 280,
   "id": "75e8c8cf",
   "metadata": {},
   "outputs": [
    {
     "data": {
      "text/plain": [
       "249186925.58218935"
      ]
     },
     "execution_count": 280,
     "metadata": {},
     "output_type": "execute_result"
    }
   ],
   "source": [
    "cost = compute_cost(x_train, y_train, finil_w,finil_b)\n",
    "cost"
   ]
  },
  {
   "cell_type": "code",
   "execution_count": 283,
   "id": "2c3e46f7",
   "metadata": {},
   "outputs": [],
   "source": [
    "def linear_result(x, w, b):\n",
    "    y_hat = np.zeros(len(x))\n",
    "    for i in range(len(x)):\n",
    "        y_hat[i] = w * x[i] + b\n",
    "    return y_hat"
   ]
  },
  {
   "cell_type": "code",
   "execution_count": 294,
   "id": "fea2073a",
   "metadata": {},
   "outputs": [
    {
     "name": "stdout",
     "output_type": "stream",
     "text": [
      "prediction value is 116.78K, actual value is 114.3k\n",
      "prediction value is 132.43K, actual value is 114.2k\n",
      "prediction value is 113.51K, actual value is 114.8k\n",
      "prediction value is 129.17K, actual value is 94.7k\n"
     ]
    }
   ],
   "source": [
    "prediction_y = linear_result(x_train, finil_w, finil_b)\n",
    "\n",
    "for i in range(4):\n",
    "    print(f\"prediction value is {prediction_y[i] / 1000:.2f}K, actual value is {y_train[i]/ 1000}k\")\n"
   ]
  },
  {
   "cell_type": "code",
   "execution_count": 285,
   "id": "8d4aa954",
   "metadata": {},
   "outputs": [
    {
     "data": {
      "image/png": "[encoded data removed]",
      "text/plain": [
       "<Figure size 432x288 with 1 Axes>"
      ]
     },
     "metadata": {
      "needs_background": "light"
     },
     "output_type": "display_data"
    }
   ],
   "source": [
    "plt.scatter(x_train, y_train, color='g', label='Data points')\n",
    "\n",
    "plt.plot(x_train, prediction_y, color='red', label='Fitting line')\n",
    "plt.xlabel('X')\n",
    "plt.ylabel('Y')\n",
    "plt.title('Linear Regression')\n",
    "plt.legend()\n",
    "plt.show()"
   ]
  },
  {
   "cell_type": "markdown",
   "id": "9a656e67",
   "metadata": {},
   "source": [
    "# Test and tray"
   ]
  },
  {
   "cell_type": "code",
   "execution_count": 277,
   "id": "ff59a65d",
   "metadata": {},
   "outputs": [
    {
     "data": {
      "text/html": [
       "<div>\n",
       "<style scoped>\n",
       "    .dataframe tbody tr th:only-of-type {\n",
       "        vertical-align: middle;\n",
       "    }\n",
       "\n",
       "    .dataframe tbody tr th {\n",
       "        vertical-align: top;\n",
       "    }\n",
       "\n",
       "    .dataframe thead th {\n",
       "        text-align: right;\n",
       "    }\n",
       "</style>\n",
       "<table border=\"1\" class=\"dataframe\">\n",
       "  <thead>\n",
       "    <tr style=\"text-align: right;\">\n",
       "      <th></th>\n",
       "      <th>SqFt</th>\n",
       "      <th>Price</th>\n",
       "    </tr>\n",
       "  </thead>\n",
       "  <tbody>\n",
       "    <tr>\n",
       "      <th>0</th>\n",
       "      <td>1790</td>\n",
       "      <td>114300</td>\n",
       "    </tr>\n",
       "    <tr>\n",
       "      <th>1</th>\n",
       "      <td>2030</td>\n",
       "      <td>114200</td>\n",
       "    </tr>\n",
       "    <tr>\n",
       "      <th>2</th>\n",
       "      <td>1740</td>\n",
       "      <td>114800</td>\n",
       "    </tr>\n",
       "    <tr>\n",
       "      <th>3</th>\n",
       "      <td>1980</td>\n",
       "      <td>94700</td>\n",
       "    </tr>\n",
       "    <tr>\n",
       "      <th>4</th>\n",
       "      <td>2130</td>\n",
       "      <td>119800</td>\n",
       "    </tr>\n",
       "    <tr>\n",
       "      <th>5</th>\n",
       "      <td>1780</td>\n",
       "      <td>114600</td>\n",
       "    </tr>\n",
       "    <tr>\n",
       "      <th>6</th>\n",
       "      <td>1830</td>\n",
       "      <td>151600</td>\n",
       "    </tr>\n",
       "    <tr>\n",
       "      <th>7</th>\n",
       "      <td>2160</td>\n",
       "      <td>150700</td>\n",
       "    </tr>\n",
       "    <tr>\n",
       "      <th>8</th>\n",
       "      <td>2110</td>\n",
       "      <td>119200</td>\n",
       "    </tr>\n",
       "    <tr>\n",
       "      <th>9</th>\n",
       "      <td>1730</td>\n",
       "      <td>104000</td>\n",
       "    </tr>\n",
       "  </tbody>\n",
       "</table>\n",
       "</div>"
      ],
      "text/plain": [
       "   SqFt   Price\n",
       "0  1790  114300\n",
       "1  2030  114200\n",
       "2  1740  114800\n",
       "3  1980   94700\n",
       "4  2130  119800\n",
       "5  1780  114600\n",
       "6  1830  151600\n",
       "7  2160  150700\n",
       "8  2110  119200\n",
       "9  1730  104000"
      ]
     },
     "execution_count": 277,
     "metadata": {},
     "output_type": "execute_result"
    }
   ],
   "source": [
    "house_data.head(10)"
   ]
  },
  {
   "cell_type": "code",
   "execution_count": 295,
   "id": "f2ce0b8f",
   "metadata": {},
   "outputs": [
    {
     "name": "stdout",
     "output_type": "stream",
     "text": [
      "Predicted price of house size: 2100 feets square is 137.00k\n"
     ]
    }
   ],
   "source": [
    "size  = 2100\n",
    "predicted_price =  size * finil_w + finil_b\n",
    "\n",
    "print(f\"Predicted price of house size: {size} feets square is {predicted_price / 1000:.2f}k\")"
   ]
  },
  {
   "cell_type": "code",
   "execution_count": null,
   "id": "12c9ebda",
   "metadata": {},
   "outputs": [],
   "source": []
  },
  {
   "cell_type": "code",
   "execution_count": null,
   "id": "d0f2567b",
   "metadata": {},
   "outputs": [],
   "source": []
  }
 ],
 "metadata": {
  "kernelspec": {
   "display_name": "Python 3 (ipykernel)",
   "language": "python",
   "name": "python3"
  },
  "language_info": {
   "codemirror_mode": {
    "name": "ipython",
    "version": 3
   },
   "file_extension": ".py",
   "mimetype": "text/x-python",
   "name": "python",
   "nbconvert_exporter": "python",
   "pygments_lexer": "ipython3",
   "version": "3.9.12"
  }
 },
 "nbformat": 4,
 "nbformat_minor": 5
}
